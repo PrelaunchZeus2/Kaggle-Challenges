{
 "cells": [
  {
   "cell_type": "markdown",
   "metadata": {},
   "source": [
    "# John Salmon: Kaggle.com Titanic Survival Challenge\n",
    "\n",
    "Information about the data and this specific challenge can be found on kaggle.com [here](https://www.kaggle.com/competitions/titanic/data?select=test.csv).\n",
    "\n",
    "In short the object of this challenge is to design a model that performs binary classification to predict the survival of the titanic passengers based on a few factors such as economic status, gender, placement on the ship etc.\n",
    "\n",
    "For my analysis I will be using pyspark for machine learning"
   ]
  },
  {
   "cell_type": "code",
   "execution_count": 21,
   "metadata": {},
   "outputs": [],
   "source": [
    "#imports\n",
    "from pyspark.ml.feature import Imputer, StringIndexer, OneHotEncoder, VectorAssembler\n",
    "from pyspark.ml.classification import RandomForestClassifier\n",
    "from pyspark.ml import Pipeline\n",
    "from pyspark.ml.evaluation import BinaryClassificationEvaluator\n",
    "from pyspark.sql.functions import lit\n",
    "from pyspark.ml.tuning import ParamGridBuilder, CrossValidator\n",
    "\n",
    "# Initialize Spark session\n",
    "spark = SparkSession.builder.appName('BinaryClassification').getOrCreate()"
   ]
  },
  {
   "cell_type": "code",
   "execution_count": 22,
   "metadata": {},
   "outputs": [
    {
     "name": "stderr",
     "output_type": "stream",
     "text": [
      "24/07/10 20:08:34 WARN DAGScheduler: Broadcasting large task binary with size 1015.1 KiB\n"
     ]
    }
   ],
   "source": [
    "\n",
    "\n",
    "# Load data\n",
    "training = spark.read.option('inferSchema', 'true').option('header', 'true').csv(r'/Volumes/T7 Shield APFS/Non School Projects/Kaggle-Challenges/Titanic_Survival/Challenge_Data/train.csv')\n",
    "test = spark.read.option('inferSchema', 'true').option('header', 'true').csv(r'/Volumes/T7 Shield APFS/Non School Projects/Kaggle-Challenges/Titanic_Survival/Challenge_Data/test.csv')\n",
    "\n",
    "#fix null\n",
    "imputer = Imputer(inputCols=['Age', 'Fare'], outputCols=['Age', 'Fare']).setStrategy(\"median\")\n",
    "training = imputer.fit(training).transform(training)\n",
    "test = imputer.fit(test).transform(test)\n",
    "\n",
    "#add survived column to hold prediction to test data\n",
    "test = test.withColumn('Survived', lit(-1))\n",
    "\n",
    "# Data preparation\n",
    "catcols = ['Sex', 'Embarked', 'Name', 'Ticket', 'Cabin']\n",
    "indexers = [StringIndexer(inputCol=column, outputCol=column + 'Index').setHandleInvalid(\"keep\") for column in catcols]\n",
    "encoder = OneHotEncoder(inputCols=[column + 'Index' for column in catcols], outputCols=[column + 'Vec' for column in catcols])\n",
    "\n",
    "vectorAssembler = VectorAssembler(\n",
    "    inputCols=['PassengerId', 'Pclass', 'Age', 'SibSp', 'Parch', 'Fare'] + [column + 'Vec' for column in catcols],\n",
    "    outputCol='Features'\n",
    ")\n",
    "\n",
    "# Train Models\n",
    "rf = RandomForestClassifier(featuresCol = 'Features', labelCol = 'Survived', numTrees = 10)\n",
    "pipeline = Pipeline(stages=indexers + [encoder, vectorAssembler, rf])\n",
    "\n",
    "# Define parameter grid\n",
    "paramGrid = ParamGridBuilder().addGrid(rf.numTrees, [10, 20, 50]).addGrid(rf.maxDepth, [5, 10, 20]).build()\n",
    "\n",
    "# Set up cross-validator\n",
    "crossval = CrossValidator(estimator=pipeline,\n",
    "                          estimatorParamMaps=paramGrid,\n",
    "                          evaluator=BinaryClassificationEvaluator(labelCol=\"Survived\"),\n",
    "                          numFolds=5)  # Use 5-fold cross-validation\n",
    "\n",
    "# Fit model using CrossValidator\n",
    "cvModel = crossval.fit(training)\n",
    "\n",
    "# Apply the best model to the test data\n",
    "test_transformed = cvModel.transform(test)\n",
    "\n",
    "# Evaluation\n",
    "accuracy = evaluator.evaluate(test_transformed)\n",
    "print('Test Accuracy:', accuracy)\n",
    "\n",
    "# Select PassengerId and the predicted Survived column\n",
    "output = test_transformed.select('PassengerId', 'prediction')\n",
    "\n",
    "# Rename the prediction column to Survived for clarity\n",
    "output = output.withColumnRenamed('prediction', 'Survived')\n",
    "\n",
    "# Save the DataFrame to a CSV file\n",
    "output.write.csv('/path/to/save/output.csv', header=True)"
   ]
  }
 ],
 "metadata": {
  "kernelspec": {
   "display_name": ".venv",
   "language": "python",
   "name": "python3"
  },
  "language_info": {
   "codemirror_mode": {
    "name": "ipython",
    "version": 3
   },
   "file_extension": ".py",
   "mimetype": "text/x-python",
   "name": "python",
   "nbconvert_exporter": "python",
   "pygments_lexer": "ipython3",
   "version": "3.11.9"
  }
 },
 "nbformat": 4,
 "nbformat_minor": 2
}
