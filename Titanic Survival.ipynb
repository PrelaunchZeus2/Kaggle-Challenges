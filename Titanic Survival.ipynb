{
 "cells": [
  {
   "cell_type": "markdown",
   "metadata": {},
   "source": [
    "# John Salmon: Kaggle.com Titanic Survival Challenge\n",
    "\n",
    "Information about the data and this specific challenge can be found on kaggle.com [here](https://www.kaggle.com/competitions/titanic/data?select=test.csv).\n",
    "\n",
    "In short the object of this challenge is to design a model that performs binary classification to predict the survival of the titanic passengers based on a few factors such as economic status, gender, placement on the ship etc.\n",
    "\n",
    "For my analysis I will be using pyspark for machine learning"
   ]
  },
  {
   "cell_type": "code",
   "execution_count": 38,
   "metadata": {},
   "outputs": [],
   "source": [
    "#imports\n",
    "from pyspark.sql import SparkSession\n",
    "from pyspark.ml.feature import Imputer, StringIndexer, OneHotEncoder, VectorAssembler\n",
    "from pyspark.ml.classification import RandomForestClassifier\n",
    "from pyspark.ml import Pipeline\n",
    "from pyspark.ml.evaluation import BinaryClassificationEvaluator\n",
    "from pyspark.sql.functions import lit, col\n",
    "from pyspark.ml.tuning import ParamGridBuilder, CrossValidator\n",
    "\n",
    "# Initialize Spark session\n",
    "spark = SparkSession.builder.appName('BinaryClassification').getOrCreate()"
   ]
  },
  {
   "cell_type": "code",
   "execution_count": 39,
   "metadata": {},
   "outputs": [],
   "source": [
    "# Load data\n",
    "training = spark.read.option('inferSchema', 'true').option('header', 'true').csv(r'/Volumes/T7 Shield APFS/Non School Projects/Kaggle-Challenges/Titanic_Survival/Challenge_Data/train.csv')\n",
    "test = spark.read.option('inferSchema', 'true').option('header', 'true').csv(r'/Volumes/T7 Shield APFS/Non School Projects/Kaggle-Challenges/Titanic_Survival/Challenge_Data/test.csv')\n"
   ]
  },
  {
   "cell_type": "code",
   "execution_count": 42,
   "metadata": {},
   "outputs": [],
   "source": [
    "#Handle Missing Values\n",
    "imputer = Imputer(inputCols = ['Age', 'Fare'], outputCols = ['Age', 'Fare']).setStrategy(\"mean\") #fill with mean\n",
    "training = imputer.fit(training).transform(training)\n",
    "test = imputer.fit(test).transform(test)\n",
    "\n",
    "training = training.fillna({'Cabin': 'Unknown'})\n",
    "test = test.fillna({'Cabin': 'Unknown'})\n",
    "\n",
    "#add survived column to hold predicition\n",
    "test = test.withColumn('Survived', lit(-1))"
   ]
  },
  {
   "cell_type": "code",
   "execution_count": 1,
   "metadata": {},
   "outputs": [
    {
     "ename": "NameError",
     "evalue": "name 'StringIndexer' is not defined",
     "output_type": "error",
     "traceback": [
      "\u001b[0;31m---------------------------------------------------------------------------\u001b[0m",
      "\u001b[0;31mNameError\u001b[0m                                 Traceback (most recent call last)",
      "Cell \u001b[0;32mIn[1], line 5\u001b[0m\n\u001b[1;32m      1\u001b[0m \u001b[38;5;66;03m#Data preparation\u001b[39;00m\n\u001b[1;32m      3\u001b[0m catcols \u001b[38;5;241m=\u001b[39m [\u001b[38;5;124m'\u001b[39m\u001b[38;5;124mSex\u001b[39m\u001b[38;5;124m'\u001b[39m, \u001b[38;5;124m'\u001b[39m\u001b[38;5;124mCabin\u001b[39m\u001b[38;5;124m'\u001b[39m, \u001b[38;5;124m'\u001b[39m\u001b[38;5;124mSibSp\u001b[39m\u001b[38;5;124m'\u001b[39m, \u001b[38;5;124m'\u001b[39m\u001b[38;5;124mParch\u001b[39m\u001b[38;5;124m'\u001b[39m, \u001b[38;5;124m'\u001b[39m\u001b[38;5;124mEmbarked\u001b[39m\u001b[38;5;124m'\u001b[39m]\n\u001b[0;32m----> 5\u001b[0m indexers \u001b[38;5;241m=\u001b[39m \u001b[43m[\u001b[49m\u001b[43mStringIndexer\u001b[49m\u001b[43m(\u001b[49m\u001b[43minputCol\u001b[49m\u001b[43m \u001b[49m\u001b[38;5;241;43m=\u001b[39;49m\u001b[43m \u001b[49m\u001b[43mcol\u001b[49m\u001b[43m,\u001b[49m\u001b[43m \u001b[49m\u001b[43moutputCol\u001b[49m\u001b[43m \u001b[49m\u001b[38;5;241;43m=\u001b[39;49m\u001b[43m \u001b[49m\u001b[43mcol\u001b[49m\u001b[43m \u001b[49m\u001b[38;5;241;43m+\u001b[39;49m\u001b[43m \u001b[49m\u001b[38;5;124;43m'\u001b[39;49m\u001b[38;5;124;43mIndex\u001b[39;49m\u001b[38;5;124;43m'\u001b[39;49m\u001b[43m)\u001b[49m\u001b[43m \u001b[49m\u001b[38;5;28;43;01mfor\u001b[39;49;00m\u001b[43m \u001b[49m\u001b[43mcol\u001b[49m\u001b[43m \u001b[49m\u001b[38;5;129;43;01min\u001b[39;49;00m\u001b[43m \u001b[49m\u001b[43mcatcols\u001b[49m\u001b[43m]\u001b[49m\n\u001b[1;32m      6\u001b[0m encoders \u001b[38;5;241m=\u001b[39m [OneHotEncoder(inputCol \u001b[38;5;241m=\u001b[39m col \u001b[38;5;241m+\u001b[39m \u001b[38;5;124m'\u001b[39m\u001b[38;5;124mIndex\u001b[39m\u001b[38;5;124m'\u001b[39m, outputCol \u001b[38;5;241m=\u001b[39m col \u001b[38;5;241m+\u001b[39m \u001b[38;5;124m'\u001b[39m\u001b[38;5;124mVec\u001b[39m\u001b[38;5;124m'\u001b[39m) \u001b[38;5;28;01mfor\u001b[39;00m col \u001b[38;5;129;01min\u001b[39;00m catcols]\n\u001b[1;32m      7\u001b[0m assembler \u001b[38;5;241m=\u001b[39m VectorAssembler(inputCols \u001b[38;5;241m=\u001b[39m [\u001b[38;5;124m'\u001b[39m\u001b[38;5;124mPassengerId\u001b[39m\u001b[38;5;124m'\u001b[39m, \u001b[38;5;124m'\u001b[39m\u001b[38;5;124mSurvived\u001b[39m\u001b[38;5;124m'\u001b[39m, \u001b[38;5;124m'\u001b[39m\u001b[38;5;124mPclass\u001b[39m\u001b[38;5;124m'\u001b[39m, \u001b[38;5;124m'\u001b[39m\u001b[38;5;124mSexVec\u001b[39m\u001b[38;5;124m'\u001b[39m, \u001b[38;5;124m'\u001b[39m\u001b[38;5;124mAge\u001b[39m\u001b[38;5;124m'\u001b[39m, \u001b[38;5;124m'\u001b[39m\u001b[38;5;124mSibSpVec\u001b[39m\u001b[38;5;124m'\u001b[39m, \u001b[38;5;124m'\u001b[39m\u001b[38;5;124mParchVec\u001b[39m\u001b[38;5;124m'\u001b[39m, \u001b[38;5;124m'\u001b[39m\u001b[38;5;124mFare\u001b[39m\u001b[38;5;124m'\u001b[39m, \u001b[38;5;124m'\u001b[39m\u001b[38;5;124mCabinVec\u001b[39m\u001b[38;5;124m'\u001b[39m, \u001b[38;5;124m'\u001b[39m\u001b[38;5;124mEmbarkedVec\u001b[39m\u001b[38;5;124m'\u001b[39m ], outputCol \u001b[38;5;241m=\u001b[39m \u001b[38;5;124m'\u001b[39m\u001b[38;5;124mFeatures\u001b[39m\u001b[38;5;124m'\u001b[39m)\n",
      "Cell \u001b[0;32mIn[1], line 5\u001b[0m, in \u001b[0;36m<listcomp>\u001b[0;34m(.0)\u001b[0m\n\u001b[1;32m      1\u001b[0m \u001b[38;5;66;03m#Data preparation\u001b[39;00m\n\u001b[1;32m      3\u001b[0m catcols \u001b[38;5;241m=\u001b[39m [\u001b[38;5;124m'\u001b[39m\u001b[38;5;124mSex\u001b[39m\u001b[38;5;124m'\u001b[39m, \u001b[38;5;124m'\u001b[39m\u001b[38;5;124mCabin\u001b[39m\u001b[38;5;124m'\u001b[39m, \u001b[38;5;124m'\u001b[39m\u001b[38;5;124mSibSp\u001b[39m\u001b[38;5;124m'\u001b[39m, \u001b[38;5;124m'\u001b[39m\u001b[38;5;124mParch\u001b[39m\u001b[38;5;124m'\u001b[39m, \u001b[38;5;124m'\u001b[39m\u001b[38;5;124mEmbarked\u001b[39m\u001b[38;5;124m'\u001b[39m]\n\u001b[0;32m----> 5\u001b[0m indexers \u001b[38;5;241m=\u001b[39m [\u001b[43mStringIndexer\u001b[49m(inputCol \u001b[38;5;241m=\u001b[39m col, outputCol \u001b[38;5;241m=\u001b[39m col \u001b[38;5;241m+\u001b[39m \u001b[38;5;124m'\u001b[39m\u001b[38;5;124mIndex\u001b[39m\u001b[38;5;124m'\u001b[39m) \u001b[38;5;28;01mfor\u001b[39;00m col \u001b[38;5;129;01min\u001b[39;00m catcols]\n\u001b[1;32m      6\u001b[0m encoders \u001b[38;5;241m=\u001b[39m [OneHotEncoder(inputCol \u001b[38;5;241m=\u001b[39m col \u001b[38;5;241m+\u001b[39m \u001b[38;5;124m'\u001b[39m\u001b[38;5;124mIndex\u001b[39m\u001b[38;5;124m'\u001b[39m, outputCol \u001b[38;5;241m=\u001b[39m col \u001b[38;5;241m+\u001b[39m \u001b[38;5;124m'\u001b[39m\u001b[38;5;124mVec\u001b[39m\u001b[38;5;124m'\u001b[39m) \u001b[38;5;28;01mfor\u001b[39;00m col \u001b[38;5;129;01min\u001b[39;00m catcols]\n\u001b[1;32m      7\u001b[0m assembler \u001b[38;5;241m=\u001b[39m VectorAssembler(inputCols \u001b[38;5;241m=\u001b[39m [\u001b[38;5;124m'\u001b[39m\u001b[38;5;124mPassengerId\u001b[39m\u001b[38;5;124m'\u001b[39m, \u001b[38;5;124m'\u001b[39m\u001b[38;5;124mSurvived\u001b[39m\u001b[38;5;124m'\u001b[39m, \u001b[38;5;124m'\u001b[39m\u001b[38;5;124mPclass\u001b[39m\u001b[38;5;124m'\u001b[39m, \u001b[38;5;124m'\u001b[39m\u001b[38;5;124mSexVec\u001b[39m\u001b[38;5;124m'\u001b[39m, \u001b[38;5;124m'\u001b[39m\u001b[38;5;124mAge\u001b[39m\u001b[38;5;124m'\u001b[39m, \u001b[38;5;124m'\u001b[39m\u001b[38;5;124mSibSpVec\u001b[39m\u001b[38;5;124m'\u001b[39m, \u001b[38;5;124m'\u001b[39m\u001b[38;5;124mParchVec\u001b[39m\u001b[38;5;124m'\u001b[39m, \u001b[38;5;124m'\u001b[39m\u001b[38;5;124mFare\u001b[39m\u001b[38;5;124m'\u001b[39m, \u001b[38;5;124m'\u001b[39m\u001b[38;5;124mCabinVec\u001b[39m\u001b[38;5;124m'\u001b[39m, \u001b[38;5;124m'\u001b[39m\u001b[38;5;124mEmbarkedVec\u001b[39m\u001b[38;5;124m'\u001b[39m ], outputCol \u001b[38;5;241m=\u001b[39m \u001b[38;5;124m'\u001b[39m\u001b[38;5;124mFeatures\u001b[39m\u001b[38;5;124m'\u001b[39m)\n",
      "\u001b[0;31mNameError\u001b[0m: name 'StringIndexer' is not defined"
     ]
    }
   ],
   "source": [
    "#Data preparation\n",
    "\n",
    "catcols = ['Sex', 'Cabin', 'SibSp', 'Parch', 'Embarked']\n",
    "\n",
    "indexers = [StringIndexer(inputCol = col, outputCol = col + 'Index', handelInvalid = 'Skip') for col in catcols]\n",
    "encoders = [OneHotEncoder(inputCol = col + 'Index', outputCol = col + 'Vec') for col in catcols]\n",
    "assembler = VectorAssembler(inputCols = ['PassengerId', 'Survived', 'Pclass', 'SexVec', 'Age', 'SibSpVec', 'ParchVec', 'Fare', 'CabinVec', 'EmbarkedVec' ], outputCol = 'Features')\n",
    "\n",
    "rf = RandomForestClassifier(featuresCol = 'Features', labelCol = 'Survived', numTrees = 10)\n",
    "\n",
    "pipeline = Pipeline(stages=[*indexers, *encoders, assembler, rf])\n",
    "\n",
    "\n",
    "\n",
    "# Train Models\n",
    "\n",
    "\n",
    "# Define parameter grid\n",
    "paramGrid = ParamGridBuilder().addGrid(rf.numTrees, [10, 20, 50]).addGrid(rf.maxDepth, [5, 10, 20]).build()\n",
    "\n",
    "# Set up cross-validator\n",
    "crossval = CrossValidator(estimator = pipeline,\n",
    "                          estimatorParamMaps=paramGrid,\n",
    "                          evaluator=BinaryClassificationEvaluator(labelCol = \"Survived\"),\n",
    "                          numFolds=5)  # Use 5-fold cross-validation\n",
    "\n",
    "# Fit model using CrossValidator\n",
    "cvModel = crossval.fit(training)\n",
    "\n",
    "# Apply the best model to the test data\n",
    "test_transformed = cvModel.transform(test)\n",
    "\n",
    "# Evaluation\n",
    "evaluator = BinaryClassificationEvaluator(labelCol = 'Survived')\n",
    "accuracy = evaluator.evaluate(test_transformed)\n",
    "print('Test Accuracy:', accuracy)\n",
    "\n",
    "# Select PassengerId and the predicted Survived column\n",
    "output = test_transformed.select('PassengerId', 'prediction')\n",
    "\n",
    "# Rename the prediction column to Survived for clarity\n",
    "output = output.withColumnRenamed('prediction', 'Survived')\n",
    "\n",
    "# Save the DataFrame to a CSV file\n",
    "output.write.csv('/path/to/save/output.csv', header=True)\n",
    "\n"
   ]
  }
 ],
 "metadata": {
  "kernelspec": {
   "display_name": ".venv",
   "language": "python",
   "name": "python3"
  },
  "language_info": {
   "codemirror_mode": {
    "name": "ipython",
    "version": 3
   },
   "file_extension": ".py",
   "mimetype": "text/x-python",
   "name": "python",
   "nbconvert_exporter": "python",
   "pygments_lexer": "ipython3",
   "version": "3.11.9"
  }
 },
 "nbformat": 4,
 "nbformat_minor": 2
}
