{
 "cells": [
  {
   "cell_type": "markdown",
   "metadata": {},
   "source": [
    "# John Salmon: Kaggle.com Titanic Survival Challenge\n",
    "\n",
    "Information about the data and this specific challenge can be found on kaggle.com [here](https://www.kaggle.com/competitions/titanic/data?select=test.csv).\n",
    "\n",
    "In short the object of this challenge is to design a model that performs binary classification to predict the survival of the titanic passengers based on a few factors such as economic status, gender, placement on the ship etc.\n",
    "\n",
    "For my analysis I will be using pyspark for machine learning"
   ]
  },
  {
   "cell_type": "code",
   "execution_count": 16,
   "metadata": {},
   "outputs": [],
   "source": [
    "#imports\n",
    "from pyspark.sql import SparkSession\n",
    "from pyspark.sql.functions import lit\n",
    "from pyspark.ml import Pipeline\n",
    "from pyspark.ml.classification import LogisticRegression\n",
    "from pyspark.ml.feature import StringIndexer, VectorAssembler, OneHotEncoder\n",
    "from pyspark.ml.evaluation import BinaryClassificationEvaluator\n",
    "\n",
    "# Initialize Spark session\n",
    "spark = SparkSession.builder.appName('BinaryClassification').getOrCreate()"
   ]
  },
  {
   "cell_type": "code",
   "execution_count": 18,
   "metadata": {},
   "outputs": [
    {
     "name": "stdout",
     "output_type": "stream",
     "text": [
      "Test Accuracy: 0.0\n"
     ]
    }
   ],
   "source": [
    "\n",
    "\n",
    "# Load data\n",
    "training = spark.read.option('inferSchema', 'true').option('header', 'true').csv('/Users/mainuser/Desktop/Kaggle-Challenges/Titanic_Survival/Challenge_Data/train.csv')\n",
    "test = spark.read.option('inferSchema', 'true').option('header', 'true').csv(\"/Users/mainuser/Desktop/Kaggle-Challenges/Titanic_Survival/Challenge_Data/test.csv\")\n",
    "\n",
    "#fix null\n",
    "training = training.fillna(0)\n",
    "test = test.fillna(0)\n",
    "\n",
    "#add survived column to hold prediction to test data\n",
    "test = test.withColumn('Survived', lit(-1))\n",
    "\n",
    "# Data preparation\n",
    "vectorAssembler = VectorAssembler(inputCols=['PassengerId', 'Pclass', 'Age', 'SibSp', 'Parch', 'Fare'], outputCol='Features')\n",
    "catcols = ['Sex', 'Embarked', 'Name', 'Ticket', 'Cabin']  # Assuming you want to include these in the model\n",
    "indexers = [StringIndexer(inputCol=column, outputCol=column + 'Index') for column in catcols]\n",
    "encoder = OneHotEncoder(inputCols=[column + 'Index' for column in catcols if column not in ['Sex', 'Embarked']], outputCols=[column + 'Vec' for column in catcols if column not in ['Sex', 'Embarked']])\n",
    "\n",
    "# Train Models\n",
    "lr = LogisticRegression(featuresCol='Features', labelCol='Survived', maxIter=10)\n",
    "pipeline = Pipeline(stages=indexers + [vectorAssembler, encoder, lr])\n",
    "model = pipeline.fit(training)\n",
    "\n",
    "# Evaluation\n",
    "predictions = model.transform(test)\n",
    "evaluator = BinaryClassificationEvaluator(labelCol=\"Survived\")\n",
    "accuracy = evaluator.evaluate(predictions)\n",
    "print('Test Accuracy:', accuracy)"
   ]
  }
 ],
 "metadata": {
  "kernelspec": {
   "display_name": ".venv",
   "language": "python",
   "name": "python3"
  },
  "language_info": {
   "codemirror_mode": {
    "name": "ipython",
    "version": 3
   },
   "file_extension": ".py",
   "mimetype": "text/x-python",
   "name": "python",
   "nbconvert_exporter": "python",
   "pygments_lexer": "ipython3",
   "version": "3.11.9"
  }
 },
 "nbformat": 4,
 "nbformat_minor": 2
}
