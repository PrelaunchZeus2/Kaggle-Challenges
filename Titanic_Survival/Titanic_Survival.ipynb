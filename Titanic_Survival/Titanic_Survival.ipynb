{
  "cells": [
    {
      "cell_type": "markdown",
      "metadata": {},
      "source": [
        "#### Imports"
      ]
    },
    {
      "cell_type": "code",
      "execution_count": 55,
      "metadata": {
        "id": "YGBeMbOrjNi1"
      },
      "outputs": [],
      "source": [
        "import numpy as np\n",
        "import pandas as pd"
      ]
    },
    {
      "cell_type": "markdown",
      "metadata": {},
      "source": [
        "#### Import Data"
      ]
    },
    {
      "cell_type": "code",
      "execution_count": 56,
      "metadata": {
        "id": "lg-rJNucfkEy"
      },
      "outputs": [],
      "source": [
        "test = pd.read_csv(r'test.csv')\n",
        "train = pd.read_csv(r'train.csv')\n",
        "data = [train, test]"
      ]
    },
    {
      "cell_type": "markdown",
      "metadata": {},
      "source": [
        "#### Cleaning"
      ]
    },
    {
      "cell_type": "code",
      "execution_count": 57,
      "metadata": {},
      "outputs": [
        {
          "name": "stdout",
          "output_type": "stream",
          "text": [
            "     PassengerId  Survived  Pclass  \\\n",
            "0              1         0       3   \n",
            "1              2         1       1   \n",
            "2              3         1       3   \n",
            "3              4         1       1   \n",
            "4              5         0       3   \n",
            "..           ...       ...     ...   \n",
            "886          887         0       2   \n",
            "887          888         1       1   \n",
            "888          889         0       3   \n",
            "889          890         1       1   \n",
            "890          891         0       3   \n",
            "\n",
            "                                                  Name Sex   Age  SibSp  \\\n",
            "0                              Braund, Mr. Owen Harris   0  22.0      1   \n",
            "1    Cumings, Mrs. John Bradley (Florence Briggs Th...   1  38.0      1   \n",
            "2                               Heikkinen, Miss. Laina   1  26.0      0   \n",
            "3         Futrelle, Mrs. Jacques Heath (Lily May Peel)   1  35.0      1   \n",
            "4                             Allen, Mr. William Henry   0  35.0      0   \n",
            "..                                                 ...  ..   ...    ...   \n",
            "886                              Montvila, Rev. Juozas   0  27.0      0   \n",
            "887                       Graham, Miss. Margaret Edith   1  19.0      0   \n",
            "888           Johnston, Miss. Catherine Helen \"Carrie\"   1   NaN      1   \n",
            "889                              Behr, Mr. Karl Howell   0  26.0      0   \n",
            "890                                Dooley, Mr. Patrick   0  32.0      0   \n",
            "\n",
            "     Parch            Ticket     Fare Cabin Embarked  \n",
            "0        0         A/5 21171   7.2500   NaN        S  \n",
            "1        0          PC 17599  71.2833   C85        C  \n",
            "2        0  STON/O2. 3101282   7.9250   NaN        S  \n",
            "3        0            113803  53.1000  C123        S  \n",
            "4        0            373450   8.0500   NaN        S  \n",
            "..     ...               ...      ...   ...      ...  \n",
            "886      0            211536  13.0000   NaN        S  \n",
            "887      0            112053  30.0000   B42        S  \n",
            "888      2        W./C. 6607  23.4500   NaN        S  \n",
            "889      0            111369  30.0000  C148        C  \n",
            "890      0            370376   7.7500   NaN        Q  \n",
            "\n",
            "[891 rows x 12 columns]\n",
            "     PassengerId  Pclass                                          Name Sex  \\\n",
            "0            892       3                              Kelly, Mr. James   0   \n",
            "1            893       3              Wilkes, Mrs. James (Ellen Needs)   1   \n",
            "2            894       2                     Myles, Mr. Thomas Francis   0   \n",
            "3            895       3                              Wirz, Mr. Albert   0   \n",
            "4            896       3  Hirvonen, Mrs. Alexander (Helga E Lindqvist)   1   \n",
            "..           ...     ...                                           ...  ..   \n",
            "413         1305       3                            Spector, Mr. Woolf   0   \n",
            "414         1306       1                  Oliva y Ocana, Dona. Fermina   1   \n",
            "415         1307       3                  Saether, Mr. Simon Sivertsen   0   \n",
            "416         1308       3                           Ware, Mr. Frederick   0   \n",
            "417         1309       3                      Peter, Master. Michael J   0   \n",
            "\n",
            "      Age  SibSp  Parch              Ticket      Fare Cabin Embarked  \n",
            "0    34.5      0      0              330911    7.8292   NaN        Q  \n",
            "1    47.0      1      0              363272    7.0000   NaN        S  \n",
            "2    62.0      0      0              240276    9.6875   NaN        Q  \n",
            "3    27.0      0      0              315154    8.6625   NaN        S  \n",
            "4    22.0      1      1             3101298   12.2875   NaN        S  \n",
            "..    ...    ...    ...                 ...       ...   ...      ...  \n",
            "413   NaN      0      0           A.5. 3236    8.0500   NaN        S  \n",
            "414  39.0      0      0            PC 17758  108.9000  C105        C  \n",
            "415  38.5      0      0  SOTON/O.Q. 3101262    7.2500   NaN        S  \n",
            "416   NaN      0      0              359309    8.0500   NaN        S  \n",
            "417   NaN      1      1                2668   22.3583   NaN        C  \n",
            "\n",
            "[418 rows x 11 columns]\n"
          ]
        }
      ],
      "source": [
        "#Change Sex to an int\n",
        "for df in data:\n",
        "    df.loc[df['Sex'] == 'male', 'Sex'] = 0\n",
        "    df.loc[df['Sex'] == 'female', 'Sex'] = 1\n",
        "\n",
        "for df in data:\n",
        "    print(df)\n",
        "\n",
        "#fill null values\n",
        "for df in data:\n",
        "    mean_age = df['Age'].mean()\n",
        "    df['Age'] = df['Age'].fillna(mean_age)\n",
        "    df['Age'] = df['Age'].astype(int)\n",
        "    mode_embarked = df['Embarked'].mode()[0]\n",
        "    df['Embarked'] = df['Embarked'].fillna(mode_embarked)\n",
        "    df['Embarked'] = df['Embarked'].astype(str)\n",
        "    \n",
        "#Encode Embarked\n",
        "for df in data:\n",
        "    df['Embarked'] = df['Embarked'].map({'S': 0, 'C': 1, 'Q': 2})\n",
        "\n",
        "    \n",
        "\n",
        "\n",
        "\n",
        "\n",
        "    \n",
        "    \n"
      ]
    },
    {
      "cell_type": "markdown",
      "metadata": {},
      "source": [
        "#### Feature Engineering"
      ]
    },
    {
      "cell_type": "code",
      "execution_count": 58,
      "metadata": {},
      "outputs": [],
      "source": [
        "#Add FamilySize Column\n",
        "test['FamilySize'] = test['SibSp'] + test['Parch']\n",
        "train['FamilySize'] = train['SibSp'] + train['Parch']\n",
        "\n",
        "\n",
        "\n"
      ]
    },
    {
      "cell_type": "markdown",
      "metadata": {},
      "source": [
        "#### Modeling and Output"
      ]
    },
    {
      "cell_type": "code",
      "execution_count": 59,
      "metadata": {
        "id": "ET0y6t5TjK7Z"
      },
      "outputs": [],
      "source": [
        "from sklearn.ensemble import RandomForestClassifier\n",
        "from sklearn.metrics import accuracy_score, confusion_matrix, classification_report\n",
        "\n",
        "y = train[\"Survived\"]\n",
        "\n",
        "features = ['Pclass', 'Sex', 'FamilySize', 'Fare', 'Embarked']\n",
        "X = pd.get_dummies(train[features])\n",
        "X_test = pd.get_dummies(test[features])\n",
        "\n",
        "rfc = RandomForestClassifier(n_estimators = 1000, max_depth = 10, random_state = 1)\n",
        "rfc.fit(X, y)\n",
        "predictions = rfc.predict(X_test)\n",
        "\n",
        "output = pd.DataFrame({'PassengerId': test.PassengerId, 'Survived': predictions})\n",
        "output.to_csv('submission.csv', index = False)\n"
      ]
    }
  ],
  "metadata": {
    "colab": {
      "provenance": []
    },
    "kernelspec": {
      "display_name": ".venv",
      "language": "python",
      "name": "python3"
    },
    "language_info": {
      "codemirror_mode": {
        "name": "ipython",
        "version": 3
      },
      "file_extension": ".py",
      "mimetype": "text/x-python",
      "name": "python",
      "nbconvert_exporter": "python",
      "pygments_lexer": "ipython3",
      "version": "3.11.9"
    }
  },
  "nbformat": 4,
  "nbformat_minor": 0
}
