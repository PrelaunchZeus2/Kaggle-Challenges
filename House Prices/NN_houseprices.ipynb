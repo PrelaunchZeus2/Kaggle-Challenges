{
 "cells": [
  {
   "cell_type": "markdown",
   "metadata": {},
   "source": [
    "#### Imports"
   ]
  },
  {
   "cell_type": "code",
   "execution_count": 1,
   "metadata": {},
   "outputs": [],
   "source": [
    "import tensorflow as tf\n",
    "import numpy as np\n",
    "import pandas as pd\n",
    "import matplotlib.pyplot as plt\n"
   ]
  },
  {
   "cell_type": "markdown",
   "metadata": {},
   "source": [
    "#### Load Data"
   ]
  },
  {
   "cell_type": "code",
   "execution_count": 2,
   "metadata": {},
   "outputs": [],
   "source": [
    "train = pd.read_csv('Data/train.csv')\n",
    "test = pd.read_csv('Data/test.csv')\n"
   ]
  },
  {
   "cell_type": "markdown",
   "metadata": {},
   "source": [
    "#### Data Cleaning"
   ]
  },
  {
   "cell_type": "code",
   "execution_count": 3,
   "metadata": {},
   "outputs": [],
   "source": [
    "train = train.drop('Id', axis = 1)"
   ]
  },
  {
   "cell_type": "code",
   "execution_count": 4,
   "metadata": {},
   "outputs": [
    {
     "name": "stdout",
     "output_type": "stream",
     "text": [
      "Index(['MSSubClass', 'MSZoning', 'LotFrontage', 'LotArea', 'Street', 'Alley',\n",
      "       'LotShape', 'LandContour', 'Utilities', 'LotConfig', 'LandSlope',\n",
      "       'Neighborhood', 'Condition1', 'Condition2', 'BldgType', 'HouseStyle',\n",
      "       'OverallQual', 'OverallCond', 'YearBuilt', 'YearRemodAdd', 'RoofStyle',\n",
      "       'RoofMatl', 'Exterior1st', 'Exterior2nd', 'MasVnrType', 'MasVnrArea',\n",
      "       'ExterQual', 'ExterCond', 'Foundation', 'BsmtQual', 'BsmtCond',\n",
      "       'BsmtExposure', 'BsmtFinType1', 'BsmtFinSF1', 'BsmtFinType2',\n",
      "       'BsmtFinSF2', 'BsmtUnfSF', 'TotalBsmtSF', 'Heating', 'HeatingQC',\n",
      "       'CentralAir', 'Electrical', '1stFlrSF', '2ndFlrSF', 'LowQualFinSF',\n",
      "       'GrLivArea', 'BsmtFullBath', 'BsmtHalfBath', 'FullBath', 'HalfBath',\n",
      "       'BedroomAbvGr', 'KitchenAbvGr', 'KitchenQual', 'TotRmsAbvGrd',\n",
      "       'Functional', 'Fireplaces', 'FireplaceQu', 'GarageType', 'GarageYrBlt',\n",
      "       'GarageFinish', 'GarageCars', 'GarageArea', 'GarageQual', 'GarageCond',\n",
      "       'PavedDrive', 'WoodDeckSF', 'OpenPorchSF', 'EnclosedPorch', '3SsnPorch',\n",
      "       'ScreenPorch', 'PoolArea', 'PoolQC', 'Fence', 'MiscFeature', 'MiscVal',\n",
      "       'MoSold', 'YrSold', 'SaleType', 'SaleCondition', 'SalePrice'],\n",
      "      dtype='object')\n"
     ]
    }
   ],
   "source": [
    "print(train.columns)"
   ]
  },
  {
   "cell_type": "markdown",
   "metadata": {},
   "source": [
    "#### Data Preprocessing"
   ]
  },
  {
   "cell_type": "code",
   "execution_count": 5,
   "metadata": {},
   "outputs": [],
   "source": [
    "from sklearn.preprocessing import StandardScaler, OneHotEncoder\n",
    "def preprocess(dataframe, cat_columns, num_columns):\n",
    "    encoder = OneHotEncoder(sparse_output = False,\n",
    "                            handle_unknown = 'ignore')\n",
    "    scaler = StandardScaler()\n",
    "\n",
    "    #encode categorical columns\n",
    "    encoded_cols = encoder.fit_transform(dataframe[cat_columns])\n",
    "    encoded_df = pd.DataFrame(encoded_cols, columns = encoder.get_feature_names_out(cat_columns))\n",
    "    dataframe = pd.concat([dataframe.reset_index(drop = True), encoded_df.reset_index(drop = True)], axis = 1)\n",
    "\n",
    "    #scale numerical columns\n",
    "    scaled_cols = scaler.fit_transform(dataframe[num_columns])\n",
    "    scaled_df = pd.DataFrame(scaled_cols, columns = num_columns)\n",
    "    dataframe = pd.concat([dataframe.reset_index(drop = True), scaled_df.reset_index(drop = True)], axis = 1)\n",
    "\n",
    "    #drop original columns\n",
    "    dataframe.drop(columns = cat_columns + num_columns, inplace = True)\n",
    "    return dataframe\n",
    "\n",
    "cat_cols = ['MSSubClass', 'MSZoning', 'Street', 'Alley', 'LotShape', 'LandContour', 'Utilities', 'LotConfig', 'LandSlope', 'Neighborhood',\n",
    "            'Condition1', 'Condition2', 'BldgType', 'HouseStyle', 'OverallQual', 'OverallCond', 'RoofStyle', 'RoofMatl', 'Exterior1st',\n",
    "            'Exterior2nd', 'MasVnrType', 'ExterQual', 'ExterCond', 'Foundation', 'BsmtQual', 'BsmtCond', 'BsmtExposure', 'BsmtFinType1',\n",
    "            'BsmtFinType2', 'Heating', 'HeatingQC', 'CentralAir', 'Electrical', 'KitchenQual', 'Functional', 'FireplaceQu', 'GarageType',\n",
    "            'GarageYrBlt', 'GarageFinish', 'GarageCars', 'GarageQual', 'GarageCond', 'PavedDrive', 'PoolQC', 'Fence', 'MiscFeature', 'SaleType',\n",
    "            'MoSold', 'YrSold', 'SaleCondition']\n",
    "num_cols = ['LotFrontage', 'LotArea', 'YearBuilt', 'YearRemodAdd', 'MasVnrArea', 'BsmtFinSF1', 'BsmtFinSF2', 'BsmtUnfSF', 'TotalBsmtSF',\n",
    "            '1stFlrSF', '2ndFlrSF', 'LowQualFinSF', 'GrLivArea', 'BsmtFullBath', 'BsmtHalfBath', 'FullBath', 'HalfBath', 'BedroomAbvGr',\n",
    "            'KitchenAbvGr', 'TotRmsAbvGrd', 'Fireplaces', 'GarageArea', 'WoodDeckSF', 'OpenPorchSF', 'EnclosedPorch', '3SsnPorch', 'ScreenPorch',\n",
    "            'PoolArea', 'MiscVal']\n",
    "\n",
    "train = preprocess(train, cat_cols, num_cols)\n",
    "test = preprocess(test, cat_cols, num_cols)\n",
    "\n"
   ]
  },
  {
   "cell_type": "code",
   "execution_count": 6,
   "metadata": {},
   "outputs": [
    {
     "name": "stdout",
     "output_type": "stream",
     "text": [
      "Index(['SalePrice', 'MSSubClass_20', 'MSSubClass_30', 'MSSubClass_40',\n",
      "       'MSSubClass_45', 'MSSubClass_50', 'MSSubClass_60', 'MSSubClass_70',\n",
      "       'MSSubClass_75', 'MSSubClass_80',\n",
      "       ...\n",
      "       'YrSold_2007', 'YrSold_2008', 'YrSold_2009', 'YrSold_2010',\n",
      "       'SaleCondition_Abnorml', 'SaleCondition_AdjLand',\n",
      "       'SaleCondition_Alloca', 'SaleCondition_Family', 'SaleCondition_Normal',\n",
      "       'SaleCondition_Partial'],\n",
      "      dtype='object', length=422)\n",
      "Index(['Id', 'MSSubClass_20', 'MSSubClass_30', 'MSSubClass_40',\n",
      "       'MSSubClass_45', 'MSSubClass_50', 'MSSubClass_60', 'MSSubClass_70',\n",
      "       'MSSubClass_75', 'MSSubClass_80',\n",
      "       ...\n",
      "       'YrSold_2007', 'YrSold_2008', 'YrSold_2009', 'YrSold_2010',\n",
      "       'SaleCondition_Abnorml', 'SaleCondition_AdjLand',\n",
      "       'SaleCondition_Alloca', 'SaleCondition_Family', 'SaleCondition_Normal',\n",
      "       'SaleCondition_Partial'],\n",
      "      dtype='object', length=413)\n",
      "(1460, 422)\n",
      "(1459, 413)\n"
     ]
    }
   ],
   "source": [
    "print(train.columns)\n",
    "print(test.columns)\n",
    "print(train.shape)\n",
    "print(test.shape)"
   ]
  },
  {
   "cell_type": "code",
   "execution_count": 7,
   "metadata": {},
   "outputs": [
    {
     "name": "stdout",
     "output_type": "stream",
     "text": [
      "{'GarageYrBlt_1895.0', 'GarageCars_4.0', 'GarageCars_nan', 'Utilities_nan', 'GarageCars_3.0', 'Exterior2nd_nan', 'Functional_nan', 'Exterior1st_nan', 'GarageYrBlt_2207.0', 'GarageCars_5.0', 'GarageYrBlt_1943.0', 'KitchenQual_nan', 'MSZoning_nan', 'GarageCars_0.0', 'GarageCars_2.0', 'GarageYrBlt_1917.0', 'MSSubClass_150', 'SaleType_nan', 'GarageCars_1.0', 'GarageYrBlt_1896.0', 'Id', 'GarageYrBlt_1919.0'}\n",
      "22\n"
     ]
    }
   ],
   "source": [
    "missing_cols = set(test.columns) - set(train.columns)\n",
    "print(missing_cols)\n",
    "print(len(missing_cols))"
   ]
  },
  {
   "cell_type": "code",
   "execution_count": 8,
   "metadata": {},
   "outputs": [
    {
     "name": "stdout",
     "output_type": "stream",
     "text": [
      "0\n"
     ]
    }
   ],
   "source": [
    "for col in missing_cols:\n",
    "    train[col] = 0\n",
    "\n",
    "missing_cols = set(test.columns) - set(train.columns)\n",
    "print(len(missing_cols))"
   ]
  },
  {
   "cell_type": "code",
   "execution_count": 9,
   "metadata": {},
   "outputs": [
    {
     "name": "stdout",
     "output_type": "stream",
     "text": [
      "Index(['SalePrice', 'MSSubClass_20', 'MSSubClass_30', 'MSSubClass_40',\n",
      "       'MSSubClass_45', 'MSSubClass_50', 'MSSubClass_60', 'MSSubClass_70',\n",
      "       'MSSubClass_75', 'MSSubClass_80',\n",
      "       ...\n",
      "       'MSZoning_nan', 'GarageCars_0.0', 'GarageCars_2.0',\n",
      "       'GarageYrBlt_1917.0', 'MSSubClass_150', 'SaleType_nan',\n",
      "       'GarageCars_1.0', 'GarageYrBlt_1896.0', 'Id', 'GarageYrBlt_1919.0'],\n",
      "      dtype='object', length=444)\n"
     ]
    }
   ],
   "source": [
    "print(train.columns)"
   ]
  },
  {
   "cell_type": "markdown",
   "metadata": {},
   "source": [
    "#### Modeling"
   ]
  },
  {
   "cell_type": "code",
   "execution_count": 10,
   "metadata": {},
   "outputs": [],
   "source": [
    "from sklearn.model_selection import train_test_split\n",
    "#create train test split for model\n",
    "X = train.drop(columns = 'SalePrice')\n",
    "y = train['SalePrice']\n",
    "\n",
    "X_train, X_valid, y_train, y_valid = train_test_split(X, y, test_size = 0.2, random_state = 42)"
   ]
  },
  {
   "cell_type": "code",
   "execution_count": 14,
   "metadata": {},
   "outputs": [
    {
     "name": "stdout",
     "output_type": "stream",
     "text": [
      "Trial 8 Complete [00h 01m 50s]\n",
      "val_root_mean_squared_error: 199119.93125\n",
      "\n",
      "Best val_root_mean_squared_error So Far: 198934.703125\n",
      "Total elapsed time: 00h 18m 17s\n",
      "\n",
      "Search: Running Trial #9\n",
      "\n",
      "Value             |Best Value So Far |Hyperparameter\n",
      "5                 |2                 |num_layers\n",
      "1024              |1024              |units_0\n",
      "4.6531e-05        |0.00010456        |l2_regularization\n",
      "0.5               |0.4               |dropout_0\n",
      "0.00080313        |0.0001636         |learning_rate\n",
      "1024              |512               |units_1\n",
      "0.3               |0.4               |dropout_1\n",
      "768               |1024              |units_2\n",
      "0.5               |0.3               |dropout_2\n",
      "512               |1024              |units_3\n",
      "0.5               |0.4               |dropout_3\n",
      "1024              |1024              |units_4\n",
      "0.3               |0.3               |dropout_4\n",
      "\n",
      "Epoch 1/50\n",
      "\u001b[1m37/37\u001b[0m \u001b[32m━━━━━━━━━━━━━━━━━━━━\u001b[0m\u001b[37m\u001b[0m \u001b[1m6s\u001b[0m 37ms/step - loss: 40866897920.0000 - root_mean_squared_error: 202074.8281 - val_loss: 39650254848.0000 - val_root_mean_squared_error: 199123.7188\n",
      "Epoch 2/50\n",
      "\u001b[1m37/37\u001b[0m \u001b[32m━━━━━━━━━━━━━━━━━━━━\u001b[0m\u001b[37m\u001b[0m \u001b[1m1s\u001b[0m 27ms/step - loss: 39090180096.0000 - root_mean_squared_error: 197697.5312 - val_loss: 39644225536.0000 - val_root_mean_squared_error: 199108.5781\n",
      "Epoch 3/50\n",
      "\u001b[1m37/37\u001b[0m \u001b[32m━━━━━━━━━━━━━━━━━━━━\u001b[0m\u001b[37m\u001b[0m \u001b[1m1s\u001b[0m 25ms/step - loss: 37563248640.0000 - root_mean_squared_error: 193738.9531 - val_loss: 39646040064.0000 - val_root_mean_squared_error: 199113.1406\n",
      "Epoch 4/50\n",
      "\u001b[1m37/37\u001b[0m \u001b[32m━━━━━━━━━━━━━━━━━━━━\u001b[0m\u001b[37m\u001b[0m \u001b[1m1s\u001b[0m 30ms/step - loss: 39297630208.0000 - root_mean_squared_error: 198187.7812 - val_loss: 39636885504.0000 - val_root_mean_squared_error: 199090.1406\n",
      "Epoch 5/50\n",
      "\u001b[1m37/37\u001b[0m \u001b[32m━━━━━━━━━━━━━━━━━━━━\u001b[0m\u001b[37m\u001b[0m \u001b[1m1s\u001b[0m 27ms/step - loss: 37447249920.0000 - root_mean_squared_error: 193480.6719 - val_loss: 39647965184.0000 - val_root_mean_squared_error: 199117.9688\n",
      "Epoch 6/50\n",
      "\u001b[1m37/37\u001b[0m \u001b[32m━━━━━━━━━━━━━━━━━━━━\u001b[0m\u001b[37m\u001b[0m \u001b[1m1s\u001b[0m 34ms/step - loss: 39810150400.0000 - root_mean_squared_error: 199503.5000 - val_loss: 39629111296.0000 - val_root_mean_squared_error: 199070.6250\n",
      "Epoch 7/50\n",
      "\u001b[1m37/37\u001b[0m \u001b[32m━━━━━━━━━━━━━━━━━━━━\u001b[0m\u001b[37m\u001b[0m \u001b[1m1s\u001b[0m 32ms/step - loss: 38556442624.0000 - root_mean_squared_error: 196327.7812 - val_loss: 39593496576.0000 - val_root_mean_squared_error: 198981.1406\n",
      "Epoch 8/50\n",
      "\u001b[1m37/37\u001b[0m \u001b[32m━━━━━━━━━━━━━━━━━━━━\u001b[0m\u001b[37m\u001b[0m \u001b[1m1s\u001b[0m 29ms/step - loss: 38218948608.0000 - root_mean_squared_error: 195481.2031 - val_loss: 39598424064.0000 - val_root_mean_squared_error: 198993.5312\n",
      "Epoch 9/50\n",
      "\u001b[1m37/37\u001b[0m \u001b[32m━━━━━━━━━━━━━━━━━━━━\u001b[0m\u001b[37m\u001b[0m \u001b[1m1s\u001b[0m 34ms/step - loss: 38849417216.0000 - root_mean_squared_error: 197068.4844 - val_loss: 39586344960.0000 - val_root_mean_squared_error: 198963.1719\n",
      "Epoch 10/50\n",
      "\u001b[1m37/37\u001b[0m \u001b[32m━━━━━━━━━━━━━━━━━━━━\u001b[0m\u001b[37m\u001b[0m \u001b[1m1s\u001b[0m 34ms/step - loss: 38238666752.0000 - root_mean_squared_error: 195527.3906 - val_loss: 39537905664.0000 - val_root_mean_squared_error: 198841.4062\n",
      "Epoch 11/50\n",
      "\u001b[1m37/37\u001b[0m \u001b[32m━━━━━━━━━━━━━━━━━━━━\u001b[0m\u001b[37m\u001b[0m \u001b[1m1s\u001b[0m 30ms/step - loss: 38484934656.0000 - root_mean_squared_error: 196123.4375 - val_loss: 39494795264.0000 - val_root_mean_squared_error: 198732.9688\n",
      "Epoch 12/50\n",
      "\u001b[1m37/37\u001b[0m \u001b[32m━━━━━━━━━━━━━━━━━━━━\u001b[0m\u001b[37m\u001b[0m \u001b[1m1s\u001b[0m 34ms/step - loss: 39327006720.0000 - root_mean_squared_error: 198247.0938 - val_loss: 39489851392.0000 - val_root_mean_squared_error: 198720.5312\n",
      "Epoch 13/50\n",
      "\u001b[1m37/37\u001b[0m \u001b[32m━━━━━━━━━━━━━━━━━━━━\u001b[0m\u001b[37m\u001b[0m \u001b[1m2s\u001b[0m 41ms/step - loss: 38566559744.0000 - root_mean_squared_error: 196350.8594 - val_loss: 39425499136.0000 - val_root_mean_squared_error: 198558.5469\n",
      "Epoch 14/50\n",
      "\u001b[1m37/37\u001b[0m \u001b[32m━━━━━━━━━━━━━━━━━━━━\u001b[0m\u001b[37m\u001b[0m \u001b[1m1s\u001b[0m 31ms/step - loss: 40073814016.0000 - root_mean_squared_error: 200164.3906 - val_loss: 39408488448.0000 - val_root_mean_squared_error: 198515.7188\n",
      "Epoch 15/50\n",
      "\u001b[1m37/37\u001b[0m \u001b[32m━━━━━━━━━━━━━━━━━━━━\u001b[0m\u001b[37m\u001b[0m \u001b[1m1s\u001b[0m 34ms/step - loss: 39937949696.0000 - root_mean_squared_error: 199787.5469 - val_loss: 39387807744.0000 - val_root_mean_squared_error: 198463.6250\n",
      "Epoch 16/50\n",
      "\u001b[1m37/37\u001b[0m \u001b[32m━━━━━━━━━━━━━━━━━━━━\u001b[0m\u001b[37m\u001b[0m \u001b[1m1s\u001b[0m 37ms/step - loss: 38876553216.0000 - root_mean_squared_error: 197125.2812 - val_loss: 39347843072.0000 - val_root_mean_squared_error: 198362.9062\n",
      "Epoch 17/50\n",
      "\u001b[1m37/37\u001b[0m \u001b[32m━━━━━━━━━━━━━━━━━━━━\u001b[0m\u001b[37m\u001b[0m \u001b[1m1s\u001b[0m 33ms/step - loss: 38498942976.0000 - root_mean_squared_error: 196203.8125 - val_loss: 39345647616.0000 - val_root_mean_squared_error: 198357.3750\n",
      "Epoch 18/50\n",
      "\u001b[1m37/37\u001b[0m \u001b[32m━━━━━━━━━━━━━━━━━━━━\u001b[0m\u001b[37m\u001b[0m \u001b[1m1s\u001b[0m 31ms/step - loss: 39221653504.0000 - root_mean_squared_error: 198011.6250 - val_loss: 39269085184.0000 - val_root_mean_squared_error: 198164.2812\n",
      "Epoch 19/50\n",
      "\u001b[1m37/37\u001b[0m \u001b[32m━━━━━━━━━━━━━━━━━━━━\u001b[0m\u001b[37m\u001b[0m \u001b[1m1s\u001b[0m 31ms/step - loss: 38755516416.0000 - root_mean_squared_error: 196800.1719 - val_loss: 39188692992.0000 - val_root_mean_squared_error: 197961.3438\n",
      "Epoch 20/50\n",
      "\u001b[1m37/37\u001b[0m \u001b[32m━━━━━━━━━━━━━━━━━━━━\u001b[0m\u001b[37m\u001b[0m \u001b[1m1s\u001b[0m 29ms/step - loss: 37553885184.0000 - root_mean_squared_error: 193716.2969 - val_loss: 39186214912.0000 - val_root_mean_squared_error: 197955.0781\n",
      "Epoch 21/50\n",
      "\u001b[1m37/37\u001b[0m \u001b[32m━━━━━━━━━━━━━━━━━━━━\u001b[0m\u001b[37m\u001b[0m \u001b[1m1s\u001b[0m 37ms/step - loss: 40750968832.0000 - root_mean_squared_error: 201688.2656 - val_loss: 39153438720.0000 - val_root_mean_squared_error: 197872.2812\n",
      "Epoch 22/50\n",
      "\u001b[1m37/37\u001b[0m \u001b[32m━━━━━━━━━━━━━━━━━━━━\u001b[0m\u001b[37m\u001b[0m \u001b[1m1s\u001b[0m 34ms/step - loss: 37644963840.0000 - root_mean_squared_error: 193989.4375 - val_loss: 39139602432.0000 - val_root_mean_squared_error: 197837.3125\n",
      "Epoch 23/50\n",
      "\u001b[1m37/37\u001b[0m \u001b[32m━━━━━━━━━━━━━━━━━━━━\u001b[0m\u001b[37m\u001b[0m \u001b[1m1s\u001b[0m 32ms/step - loss: 36928331776.0000 - root_mean_squared_error: 192158.3281 - val_loss: 39042883584.0000 - val_root_mean_squared_error: 197592.7188\n",
      "Epoch 24/50\n",
      "\u001b[1m37/37\u001b[0m \u001b[32m━━━━━━━━━━━━━━━━━━━━\u001b[0m\u001b[37m\u001b[0m \u001b[1m1s\u001b[0m 36ms/step - loss: 39470534656.0000 - root_mean_squared_error: 198614.6719 - val_loss: 38993469440.0000 - val_root_mean_squared_error: 197467.6406\n",
      "Epoch 25/50\n",
      "\u001b[1m37/37\u001b[0m \u001b[32m━━━━━━━━━━━━━━━━━━━━\u001b[0m\u001b[37m\u001b[0m \u001b[1m1s\u001b[0m 34ms/step - loss: 37333082112.0000 - root_mean_squared_error: 193199.8438 - val_loss: 38926188544.0000 - val_root_mean_squared_error: 197297.2031\n",
      "Epoch 26/50\n",
      "\u001b[1m37/37\u001b[0m \u001b[32m━━━━━━━━━━━━━━━━━━━━\u001b[0m\u001b[37m\u001b[0m \u001b[1m1s\u001b[0m 32ms/step - loss: 38219554816.0000 - root_mean_squared_error: 195477.1719 - val_loss: 38872596480.0000 - val_root_mean_squared_error: 197161.3438\n",
      "Epoch 27/50\n",
      "\u001b[1m37/37\u001b[0m \u001b[32m━━━━━━━━━━━━━━━━━━━━\u001b[0m\u001b[37m\u001b[0m \u001b[1m1s\u001b[0m 31ms/step - loss: 37747564544.0000 - root_mean_squared_error: 194266.7188 - val_loss: 38831755264.0000 - val_root_mean_squared_error: 197057.7500\n",
      "Epoch 28/50\n",
      "\u001b[1m37/37\u001b[0m \u001b[32m━━━━━━━━━━━━━━━━━━━━\u001b[0m\u001b[37m\u001b[0m \u001b[1m1s\u001b[0m 30ms/step - loss: 37032689664.0000 - root_mean_squared_error: 192410.9844 - val_loss: 38831529984.0000 - val_root_mean_squared_error: 197057.1719\n",
      "Epoch 29/50\n",
      "\u001b[1m37/37\u001b[0m \u001b[32m━━━━━━━━━━━━━━━━━━━━\u001b[0m\u001b[37m\u001b[0m \u001b[1m1s\u001b[0m 30ms/step - loss: 37047296000.0000 - root_mean_squared_error: 192296.4375 - val_loss: 38689771520.0000 - val_root_mean_squared_error: 196697.1562\n",
      "Epoch 30/50\n",
      "\u001b[1m37/37\u001b[0m \u001b[32m━━━━━━━━━━━━━━━━━━━━\u001b[0m\u001b[37m\u001b[0m \u001b[1m1s\u001b[0m 32ms/step - loss: 37953691648.0000 - root_mean_squared_error: 194796.7500 - val_loss: 38541537280.0000 - val_root_mean_squared_error: 196319.9844\n",
      "Epoch 31/50\n",
      "\u001b[1m37/37\u001b[0m \u001b[32m━━━━━━━━━━━━━━━━━━━━\u001b[0m\u001b[37m\u001b[0m \u001b[1m1s\u001b[0m 32ms/step - loss: 37378945024.0000 - root_mean_squared_error: 193310.6875 - val_loss: 38423932928.0000 - val_root_mean_squared_error: 196020.2344\n",
      "Epoch 32/50\n",
      "\u001b[1m37/37\u001b[0m \u001b[32m━━━━━━━━━━━━━━━━━━━━\u001b[0m\u001b[37m\u001b[0m \u001b[1m1s\u001b[0m 29ms/step - loss: 38701514752.0000 - root_mean_squared_error: 196673.7500 - val_loss: 38422634496.0000 - val_root_mean_squared_error: 196016.9219\n",
      "Epoch 33/50\n",
      "\u001b[1m37/37\u001b[0m \u001b[32m━━━━━━━━━━━━━━━━━━━━\u001b[0m\u001b[37m\u001b[0m \u001b[1m1s\u001b[0m 33ms/step - loss: 37588811776.0000 - root_mean_squared_error: 193850.4688 - val_loss: 38314582016.0000 - val_root_mean_squared_error: 195741.1094\n",
      "Epoch 34/50\n",
      "\u001b[1m37/37\u001b[0m \u001b[32m━━━━━━━━━━━━━━━━━━━━\u001b[0m\u001b[37m\u001b[0m \u001b[1m1s\u001b[0m 34ms/step - loss: 38634557440.0000 - root_mean_squared_error: 196537.3438 - val_loss: 38280220672.0000 - val_root_mean_squared_error: 195653.3125\n",
      "Epoch 35/50\n",
      "\u001b[1m37/37\u001b[0m \u001b[32m━━━━━━━━━━━━━━━━━━━━\u001b[0m\u001b[37m\u001b[0m \u001b[1m1s\u001b[0m 27ms/step - loss: 39199629312.0000 - root_mean_squared_error: 197937.9375 - val_loss: 38299156480.0000 - val_root_mean_squared_error: 195701.7031\n",
      "Epoch 36/50\n",
      "\u001b[1m37/37\u001b[0m \u001b[32m━━━━━━━━━━━━━━━━━━━━\u001b[0m\u001b[37m\u001b[0m \u001b[1m1s\u001b[0m 29ms/step - loss: 38037962752.0000 - root_mean_squared_error: 194916.6094 - val_loss: 38152339456.0000 - val_root_mean_squared_error: 195326.2344\n",
      "Epoch 37/50\n",
      "\u001b[1m37/37\u001b[0m \u001b[32m━━━━━━━━━━━━━━━━━━━━\u001b[0m\u001b[37m\u001b[0m \u001b[1m1s\u001b[0m 31ms/step - loss: 38631104512.0000 - root_mean_squared_error: 196487.8594 - val_loss: 38127939584.0000 - val_root_mean_squared_error: 195263.7656\n",
      "Epoch 38/50\n",
      "\u001b[1m37/37\u001b[0m \u001b[32m━━━━━━━━━━━━━━━━━━━━\u001b[0m\u001b[37m\u001b[0m \u001b[1m1s\u001b[0m 34ms/step - loss: 38814203904.0000 - root_mean_squared_error: 196974.0781 - val_loss: 38039175168.0000 - val_root_mean_squared_error: 195036.3438\n",
      "Epoch 39/50\n",
      "\u001b[1m37/37\u001b[0m \u001b[32m━━━━━━━━━━━━━━━━━━━━\u001b[0m\u001b[37m\u001b[0m \u001b[1m1s\u001b[0m 32ms/step - loss: 35400548352.0000 - root_mean_squared_error: 188044.4062 - val_loss: 38003744768.0000 - val_root_mean_squared_error: 194945.4844\n",
      "Epoch 40/50\n",
      "\u001b[1m37/37\u001b[0m \u001b[32m━━━━━━━━━━━━━━━━━━━━\u001b[0m\u001b[37m\u001b[0m \u001b[1m1s\u001b[0m 33ms/step - loss: 36963229696.0000 - root_mean_squared_error: 192210.8906 - val_loss: 37881012224.0000 - val_root_mean_squared_error: 194630.4531\n",
      "Epoch 41/50\n",
      "\u001b[1m37/37\u001b[0m \u001b[32m━━━━━━━━━━━━━━━━━━━━\u001b[0m\u001b[37m\u001b[0m \u001b[1m1s\u001b[0m 30ms/step - loss: 39162953728.0000 - root_mean_squared_error: 197834.5156 - val_loss: 37892632576.0000 - val_root_mean_squared_error: 194660.2969\n",
      "Epoch 42/50\n",
      "\u001b[1m37/37\u001b[0m \u001b[32m━━━━━━━━━━━━━━━━━━━━\u001b[0m\u001b[37m\u001b[0m \u001b[1m1s\u001b[0m 29ms/step - loss: 37025701888.0000 - root_mean_squared_error: 192396.8438 - val_loss: 37763248128.0000 - val_root_mean_squared_error: 194327.6875\n",
      "Epoch 43/50\n",
      "\u001b[1m37/37\u001b[0m \u001b[32m━━━━━━━━━━━━━━━━━━━━\u001b[0m\u001b[37m\u001b[0m \u001b[1m1s\u001b[0m 30ms/step - loss: 36205801472.0000 - root_mean_squared_error: 190247.0156 - val_loss: 37620645888.0000 - val_root_mean_squared_error: 193960.4219\n",
      "Epoch 44/50\n",
      "\u001b[1m37/37\u001b[0m \u001b[32m━━━━━━━━━━━━━━━━━━━━\u001b[0m\u001b[37m\u001b[0m \u001b[1m1s\u001b[0m 33ms/step - loss: 37021614080.0000 - root_mean_squared_error: 192400.7344 - val_loss: 37596033024.0000 - val_root_mean_squared_error: 193896.9688\n",
      "Epoch 45/50\n",
      "\u001b[1m37/37\u001b[0m \u001b[32m━━━━━━━━━━━━━━━━━━━━\u001b[0m\u001b[37m\u001b[0m \u001b[1m1s\u001b[0m 31ms/step - loss: 36333735936.0000 - root_mean_squared_error: 190543.0625 - val_loss: 37527748608.0000 - val_root_mean_squared_error: 193720.7969\n",
      "Epoch 46/50\n",
      "\u001b[1m37/37\u001b[0m \u001b[32m━━━━━━━━━━━━━━━━━━━━\u001b[0m\u001b[37m\u001b[0m \u001b[1m1s\u001b[0m 33ms/step - loss: 37258575872.0000 - root_mean_squared_error: 192947.9219 - val_loss: 37329149952.0000 - val_root_mean_squared_error: 193207.5312\n",
      "Epoch 47/50\n",
      "\u001b[1m37/37\u001b[0m \u001b[32m━━━━━━━━━━━━━━━━━━━━\u001b[0m\u001b[37m\u001b[0m \u001b[1m1s\u001b[0m 32ms/step - loss: 36955222016.0000 - root_mean_squared_error: 192202.3125 - val_loss: 37275623424.0000 - val_root_mean_squared_error: 193068.9531\n",
      "Epoch 48/50\n",
      "\u001b[1m37/37\u001b[0m \u001b[32m━━━━━━━━━━━━━━━━━━━━\u001b[0m\u001b[37m\u001b[0m \u001b[1m1s\u001b[0m 32ms/step - loss: 38102618112.0000 - root_mean_squared_error: 195145.0469 - val_loss: 37101748224.0000 - val_root_mean_squared_error: 192618.1406\n",
      "Epoch 49/50\n",
      "\u001b[1m37/37\u001b[0m \u001b[32m━━━━━━━━━━━━━━━━━━━━\u001b[0m\u001b[37m\u001b[0m \u001b[1m1s\u001b[0m 30ms/step - loss: 36301619200.0000 - root_mean_squared_error: 190469.8125 - val_loss: 37017747456.0000 - val_root_mean_squared_error: 192399.9688\n",
      "Epoch 50/50\n",
      "\u001b[1m37/37\u001b[0m \u001b[32m━━━━━━━━━━━━━━━━━━━━\u001b[0m\u001b[37m\u001b[0m \u001b[1m1s\u001b[0m 33ms/step - loss: 37065957376.0000 - root_mean_squared_error: 192481.4844 - val_loss: 36830867456.0000 - val_root_mean_squared_error: 191913.7031\n",
      "Epoch 1/50\n",
      "\u001b[1m37/37\u001b[0m \u001b[32m━━━━━━━━━━━━━━━━━━━━\u001b[0m\u001b[37m\u001b[0m \u001b[1m7s\u001b[0m 35ms/step - loss: 39952846848.0000 - root_mean_squared_error: 199839.8594 - val_loss: 39650193408.0000 - val_root_mean_squared_error: 199123.5625\n",
      "Epoch 2/50\n",
      "\u001b[1m37/37\u001b[0m \u001b[32m━━━━━━━━━━━━━━━━━━━━\u001b[0m\u001b[37m\u001b[0m \u001b[1m1s\u001b[0m 26ms/step - loss: 41734545408.0000 - root_mean_squared_error: 204212.7188 - val_loss: 39644999680.0000 - val_root_mean_squared_error: 199110.5156\n",
      "Epoch 3/50\n",
      "\u001b[1m37/37\u001b[0m \u001b[32m━━━━━━━━━━━━━━━━━━━━\u001b[0m\u001b[37m\u001b[0m \u001b[1m1s\u001b[0m 26ms/step - loss: 38855536640.0000 - root_mean_squared_error: 197110.2500 - val_loss: 39650111488.0000 - val_root_mean_squared_error: 199123.3594\n",
      "Epoch 4/50\n",
      "\u001b[1m37/37\u001b[0m \u001b[32m━━━━━━━━━━━━━━━━━━━━\u001b[0m\u001b[37m\u001b[0m \u001b[1m1s\u001b[0m 26ms/step - loss: 38202638336.0000 - root_mean_squared_error: 195427.0312 - val_loss: 39656804352.0000 - val_root_mean_squared_error: 199140.1562\n",
      "Epoch 5/50\n",
      "\u001b[1m37/37\u001b[0m \u001b[32m━━━━━━━━━━━━━━━━━━━━\u001b[0m\u001b[37m\u001b[0m \u001b[1m1s\u001b[0m 29ms/step - loss: 39681425408.0000 - root_mean_squared_error: 199150.7969 - val_loss: 39642488832.0000 - val_root_mean_squared_error: 199104.2188\n",
      "Epoch 6/50\n",
      "\u001b[1m37/37\u001b[0m \u001b[32m━━━━━━━━━━━━━━━━━━━━\u001b[0m\u001b[37m\u001b[0m \u001b[1m1s\u001b[0m 29ms/step - loss: 38056349696.0000 - root_mean_squared_error: 195067.5938 - val_loss: 39632408576.0000 - val_root_mean_squared_error: 199078.9062\n",
      "Epoch 7/50\n",
      "\u001b[1m37/37\u001b[0m \u001b[32m━━━━━━━━━━━━━━━━━━━━\u001b[0m\u001b[37m\u001b[0m \u001b[1m1s\u001b[0m 28ms/step - loss: 38731780096.0000 - root_mean_squared_error: 196788.3906 - val_loss: 39623061504.0000 - val_root_mean_squared_error: 199055.4219\n",
      "Epoch 8/50\n",
      "\u001b[1m37/37\u001b[0m \u001b[32m━━━━━━━━━━━━━━━━━━━━\u001b[0m\u001b[37m\u001b[0m \u001b[1m1s\u001b[0m 31ms/step - loss: 40105177088.0000 - root_mean_squared_error: 200155.2344 - val_loss: 39587885056.0000 - val_root_mean_squared_error: 198967.0469\n",
      "Epoch 9/50\n",
      "\u001b[1m37/37\u001b[0m \u001b[32m━━━━━━━━━━━━━━━━━━━━\u001b[0m\u001b[37m\u001b[0m \u001b[1m1s\u001b[0m 27ms/step - loss: 39652917248.0000 - root_mean_squared_error: 199097.2031 - val_loss: 39583760384.0000 - val_root_mean_squared_error: 198956.6719\n",
      "Epoch 10/50\n",
      "\u001b[1m37/37\u001b[0m \u001b[32m━━━━━━━━━━━━━━━━━━━━\u001b[0m\u001b[37m\u001b[0m \u001b[1m1s\u001b[0m 29ms/step - loss: 39713271808.0000 - root_mean_squared_error: 199201.4219 - val_loss: 39570739200.0000 - val_root_mean_squared_error: 198923.9531\n",
      "Epoch 11/50\n",
      "\u001b[1m37/37\u001b[0m \u001b[32m━━━━━━━━━━━━━━━━━━━━\u001b[0m\u001b[37m\u001b[0m \u001b[1m1s\u001b[0m 36ms/step - loss: 40166866944.0000 - root_mean_squared_error: 200396.2812 - val_loss: 39532830720.0000 - val_root_mean_squared_error: 198828.6406\n",
      "Epoch 12/50\n",
      "\u001b[1m37/37\u001b[0m \u001b[32m━━━━━━━━━━━━━━━━━━━━\u001b[0m\u001b[37m\u001b[0m \u001b[1m1s\u001b[0m 28ms/step - loss: 36963274752.0000 - root_mean_squared_error: 192223.0312 - val_loss: 39473504256.0000 - val_root_mean_squared_error: 198679.4062\n",
      "Epoch 13/50\n",
      "\u001b[1m37/37\u001b[0m \u001b[32m━━━━━━━━━━━━━━━━━━━━\u001b[0m\u001b[37m\u001b[0m \u001b[1m2s\u001b[0m 32ms/step - loss: 37341855744.0000 - root_mean_squared_error: 193188.3281 - val_loss: 39456919552.0000 - val_root_mean_squared_error: 198637.6562\n",
      "Epoch 14/50\n",
      "\u001b[1m37/37\u001b[0m \u001b[32m━━━━━━━━━━━━━━━━━━━━\u001b[0m\u001b[37m\u001b[0m \u001b[1m1s\u001b[0m 33ms/step - loss: 38690045952.0000 - root_mean_squared_error: 196678.2500 - val_loss: 39396483072.0000 - val_root_mean_squared_error: 198485.4688\n",
      "Epoch 15/50\n",
      "\u001b[1m37/37\u001b[0m \u001b[32m━━━━━━━━━━━━━━━━━━━━\u001b[0m\u001b[37m\u001b[0m \u001b[1m1s\u001b[0m 29ms/step - loss: 38982340608.0000 - root_mean_squared_error: 197408.3750 - val_loss: 39383248896.0000 - val_root_mean_squared_error: 198452.1250\n",
      "Epoch 16/50\n",
      "\u001b[1m37/37\u001b[0m \u001b[32m━━━━━━━━━━━━━━━━━━━━\u001b[0m\u001b[37m\u001b[0m \u001b[1m1s\u001b[0m 27ms/step - loss: 37652496384.0000 - root_mean_squared_error: 193991.1250 - val_loss: 39375712256.0000 - val_root_mean_squared_error: 198433.1406\n",
      "Epoch 17/50\n",
      "\u001b[1m37/37\u001b[0m \u001b[32m━━━━━━━━━━━━━━━━━━━━\u001b[0m\u001b[37m\u001b[0m \u001b[1m1s\u001b[0m 29ms/step - loss: 38927855616.0000 - root_mean_squared_error: 197281.0625 - val_loss: 39313289216.0000 - val_root_mean_squared_error: 198275.7969\n",
      "Epoch 18/50\n",
      "\u001b[1m37/37\u001b[0m \u001b[32m━━━━━━━━━━━━━━━━━━━━\u001b[0m\u001b[37m\u001b[0m \u001b[1m1s\u001b[0m 30ms/step - loss: 37770588160.0000 - root_mean_squared_error: 194333.0312 - val_loss: 39250497536.0000 - val_root_mean_squared_error: 198117.3906\n",
      "Epoch 19/50\n",
      "\u001b[1m37/37\u001b[0m \u001b[32m━━━━━━━━━━━━━━━━━━━━\u001b[0m\u001b[37m\u001b[0m \u001b[1m1s\u001b[0m 31ms/step - loss: 38856388608.0000 - root_mean_squared_error: 197097.5781 - val_loss: 39189794816.0000 - val_root_mean_squared_error: 197964.1250\n",
      "Epoch 20/50\n",
      "\u001b[1m37/37\u001b[0m \u001b[32m━━━━━━━━━━━━━━━━━━━━\u001b[0m\u001b[37m\u001b[0m \u001b[1m1s\u001b[0m 30ms/step - loss: 37672218624.0000 - root_mean_squared_error: 194016.6250 - val_loss: 39169843200.0000 - val_root_mean_squared_error: 197913.7344\n",
      "Epoch 21/50\n",
      "\u001b[1m37/37\u001b[0m \u001b[32m━━━━━━━━━━━━━━━━━━━━\u001b[0m\u001b[37m\u001b[0m \u001b[1m1s\u001b[0m 33ms/step - loss: 38278680576.0000 - root_mean_squared_error: 195626.7969 - val_loss: 39131734016.0000 - val_root_mean_squared_error: 197817.4219\n",
      "Epoch 22/50\n",
      "\u001b[1m37/37\u001b[0m \u001b[32m━━━━━━━━━━━━━━━━━━━━\u001b[0m\u001b[37m\u001b[0m \u001b[1m1s\u001b[0m 27ms/step - loss: 39683825664.0000 - root_mean_squared_error: 199100.4844 - val_loss: 39072780288.0000 - val_root_mean_squared_error: 197668.3594\n",
      "Epoch 23/50\n",
      "\u001b[1m37/37\u001b[0m \u001b[32m━━━━━━━━━━━━━━━━━━━━\u001b[0m\u001b[37m\u001b[0m \u001b[1m1s\u001b[0m 33ms/step - loss: 38303031296.0000 - root_mean_squared_error: 195638.2188 - val_loss: 39003394048.0000 - val_root_mean_squared_error: 197492.7656\n",
      "Epoch 24/50\n",
      "\u001b[1m37/37\u001b[0m \u001b[32m━━━━━━━━━━━━━━━━━━━━\u001b[0m\u001b[37m\u001b[0m \u001b[1m1s\u001b[0m 32ms/step - loss: 38299955200.0000 - root_mean_squared_error: 195666.9688 - val_loss: 38920495104.0000 - val_root_mean_squared_error: 197282.7812\n",
      "Epoch 25/50\n",
      "\u001b[1m37/37\u001b[0m \u001b[32m━━━━━━━━━━━━━━━━━━━━\u001b[0m\u001b[37m\u001b[0m \u001b[1m1s\u001b[0m 29ms/step - loss: 37265002496.0000 - root_mean_squared_error: 193011.0156 - val_loss: 38881972224.0000 - val_root_mean_squared_error: 197185.1250\n",
      "Epoch 26/50\n",
      "\u001b[1m37/37\u001b[0m \u001b[32m━━━━━━━━━━━━━━━━━━━━\u001b[0m\u001b[37m\u001b[0m \u001b[1m1s\u001b[0m 32ms/step - loss: 37296033792.0000 - root_mean_squared_error: 193043.9844 - val_loss: 38846238720.0000 - val_root_mean_squared_error: 197094.4844\n",
      "Epoch 27/50\n",
      "\u001b[1m37/37\u001b[0m \u001b[32m━━━━━━━━━━━━━━━━━━━━\u001b[0m\u001b[37m\u001b[0m \u001b[1m1s\u001b[0m 27ms/step - loss: 38318403584.0000 - root_mean_squared_error: 195727.6875 - val_loss: 38773780480.0000 - val_root_mean_squared_error: 196910.5938\n",
      "Epoch 28/50\n",
      "\u001b[1m37/37\u001b[0m \u001b[32m━━━━━━━━━━━━━━━━━━━━\u001b[0m\u001b[37m\u001b[0m \u001b[1m2s\u001b[0m 36ms/step - loss: 36695392256.0000 - root_mean_squared_error: 191486.1719 - val_loss: 38744412160.0000 - val_root_mean_squared_error: 196836.0000\n",
      "Epoch 29/50\n",
      "\u001b[1m37/37\u001b[0m \u001b[32m━━━━━━━━━━━━━━━━━━━━\u001b[0m\u001b[37m\u001b[0m \u001b[1m3s\u001b[0m 35ms/step - loss: 38794776576.0000 - root_mean_squared_error: 196938.8438 - val_loss: 38609199104.0000 - val_root_mean_squared_error: 196492.2344\n",
      "Epoch 30/50\n",
      "\u001b[1m37/37\u001b[0m \u001b[32m━━━━━━━━━━━━━━━━━━━━\u001b[0m\u001b[37m\u001b[0m \u001b[1m1s\u001b[0m 31ms/step - loss: 36633440256.0000 - root_mean_squared_error: 191354.5312 - val_loss: 38578851840.0000 - val_root_mean_squared_error: 196415.0000\n",
      "Epoch 31/50\n",
      "\u001b[1m37/37\u001b[0m \u001b[32m━━━━━━━━━━━━━━━━━━━━\u001b[0m\u001b[37m\u001b[0m \u001b[1m1s\u001b[0m 26ms/step - loss: 38367191040.0000 - root_mean_squared_error: 195854.9844 - val_loss: 38508097536.0000 - val_root_mean_squared_error: 196234.7969\n",
      "Epoch 32/50\n",
      "\u001b[1m37/37\u001b[0m \u001b[32m━━━━━━━━━━━━━━━━━━━━\u001b[0m\u001b[37m\u001b[0m \u001b[1m1s\u001b[0m 31ms/step - loss: 38600032256.0000 - root_mean_squared_error: 196433.5625 - val_loss: 38420676608.0000 - val_root_mean_squared_error: 196011.9375\n",
      "Epoch 33/50\n",
      "\u001b[1m37/37\u001b[0m \u001b[32m━━━━━━━━━━━━━━━━━━━━\u001b[0m\u001b[37m\u001b[0m \u001b[1m2s\u001b[0m 38ms/step - loss: 37418106880.0000 - root_mean_squared_error: 193408.7031 - val_loss: 38388940800.0000 - val_root_mean_squared_error: 195930.9531\n",
      "Epoch 34/50\n",
      "\u001b[1m37/37\u001b[0m \u001b[32m━━━━━━━━━━━━━━━━━━━━\u001b[0m\u001b[37m\u001b[0m \u001b[1m1s\u001b[0m 32ms/step - loss: 38171922432.0000 - root_mean_squared_error: 195320.4375 - val_loss: 38386294784.0000 - val_root_mean_squared_error: 195924.2031\n",
      "Epoch 35/50\n",
      "\u001b[1m37/37\u001b[0m \u001b[32m━━━━━━━━━━━━━━━━━━━━\u001b[0m\u001b[37m\u001b[0m \u001b[1m1s\u001b[0m 29ms/step - loss: 37346357248.0000 - root_mean_squared_error: 193239.7500 - val_loss: 38241275904.0000 - val_root_mean_squared_error: 195553.7656\n",
      "Epoch 36/50\n",
      "\u001b[1m37/37\u001b[0m \u001b[32m━━━━━━━━━━━━━━━━━━━━\u001b[0m\u001b[37m\u001b[0m \u001b[1m1s\u001b[0m 28ms/step - loss: 37820960768.0000 - root_mean_squared_error: 194465.5000 - val_loss: 38145495040.0000 - val_root_mean_squared_error: 195308.7188\n",
      "Epoch 37/50\n",
      "\u001b[1m37/37\u001b[0m \u001b[32m━━━━━━━━━━━━━━━━━━━━\u001b[0m\u001b[37m\u001b[0m \u001b[1m1s\u001b[0m 31ms/step - loss: 37012738048.0000 - root_mean_squared_error: 192355.2656 - val_loss: 38057324544.0000 - val_root_mean_squared_error: 195082.8594\n",
      "Epoch 38/50\n",
      "\u001b[1m37/37\u001b[0m \u001b[32m━━━━━━━━━━━━━━━━━━━━\u001b[0m\u001b[37m\u001b[0m \u001b[1m1s\u001b[0m 29ms/step - loss: 36234702848.0000 - root_mean_squared_error: 190255.2812 - val_loss: 37965094912.0000 - val_root_mean_squared_error: 194846.3438\n",
      "Epoch 39/50\n",
      "\u001b[1m 6/37\u001b[0m \u001b[32m━━━\u001b[0m\u001b[37m━━━━━━━━━━━━━━━━━\u001b[0m \u001b[1m0s\u001b[0m 31ms/step - loss: 33313906688.0000 - root_mean_squared_error: 182435.3438"
     ]
    }
   ],
   "source": [
    "from tensorflow import keras\n",
    "from tensorflow.keras import layers, regularizers\n",
    "from kerastuner import HyperModel\n",
    "from kerastuner.tuners import RandomSearch\n",
    "from tensorflow.keras.metrics import RootMeanSquaredError\n",
    "from tensorflow.keras import backend as K\n",
    "\n",
    "# Define HyperModel\n",
    "class HousePriceHyperModel(HyperModel):\n",
    "    def build(self, hp):\n",
    "        model = keras.Sequential()\n",
    "        model.add(layers.Input(shape=(X_train.shape[1],)))\n",
    "        model.add(layers.BatchNormalization())\n",
    "\n",
    "        for i in range(hp.Int('num_layers', 1, 7)):\n",
    "            model.add(layers.Dense(units=hp.Int('units_' + str(i), \n",
    "                                                min_value=256,\n",
    "                                                max_value=1024,\n",
    "                                                step=256),\n",
    "                                   activation='relu',\n",
    "                                   kernel_regularizer=regularizers.l2(hp.Float('l2_regularization', \n",
    "                                                                               min_value=1e-5, \n",
    "                                                                               max_value=1e-1, \n",
    "                                                                               sampling='LOG'))))\n",
    "            model.add(layers.BatchNormalization())\n",
    "            model.add(layers.Dropout(hp.Float('dropout_' + str(i),\n",
    "                                              min_value=0.2,\n",
    "                                              max_value=0.5,\n",
    "                                              step=0.1)))\n",
    "        model.add(layers.Dense(1, activation='linear'))\n",
    "\n",
    "        model.compile(\n",
    "            optimizer=keras.optimizers.Adam(\n",
    "                learning_rate=hp.Float('learning_rate', \n",
    "                                       min_value=1e-5,\n",
    "                                       max_value=1e-2,\n",
    "                                       sampling='LOG')\n",
    "            ),\n",
    "            loss='mean_squared_error',\n",
    "            metrics=[RootMeanSquaredError()]\n",
    "        )\n",
    "        return model\n",
    "    \n",
    "tuner = RandomSearch(\n",
    "    HousePriceHyperModel(),\n",
    "    objective = 'val_root_mean_squared_error',\n",
    "    max_trials = 25,\n",
    "    executions_per_trial = 5,\n",
    "    directory = 'House Price Tuning',\n",
    "    project_name = 'House Price Prediction'\n",
    ")\n",
    "\n",
    "MY_PATIENCE = 10\n",
    "MY_EPOCHS = 50\n",
    "\n",
    "tuner.search(\n",
    "    X_train, y_train,\n",
    "    validation_data=(X_valid, y_valid),\n",
    "    epochs = MY_EPOCHS,\n",
    "    callbacks=[keras.callbacks.EarlyStopping(patience = MY_PATIENCE, restore_best_weights=True)]\n",
    ")\n",
    "\n",
    "best_model = tuner.get_best_models(num_models=1)[0]\n",
    "best_hyperparams = tuner.get_best_hyperparameters(num_trials=1)[0]\n",
    "\n",
    "best_model.compile(optimizer='adam', loss='mean_squared_error', metrics=['mean_squared_error', RootMeanSquaredError()])\n",
    "best_model.evaluate(X_valid, y_valid)"
   ]
  },
  {
   "cell_type": "markdown",
   "metadata": {},
   "source": [
    "#### Plot RMSE of Best Model"
   ]
  },
  {
   "cell_type": "code",
   "execution_count": null,
   "metadata": {},
   "outputs": [],
   "source": [
    "history = best_model.fit(\n",
    "    X_train, y_train,\n",
    "    validation_data=(X_valid, y_valid),\n",
    "    epochs = MY_EPOCHS,\n",
    "    callbacks=[keras.callbacks.EarlyStopping(patience = MY_PATIENCE, restore_best_weights=True)]\n",
    ")\n",
    "\n",
    "import matplotlib.pyplot as plt\n",
    "\n",
    "plt.plot(history.history['root_mean_squared_error'], label='Train RMSE')\n",
    "plt.plot(history.history['root_mean_squared_error'], label='Validation RMSE')\n",
    "plt.xlabel('Epochs')\n",
    "plt.ylabel('RMSE Score')\n",
    "plt.legend()\n",
    "plt.show()"
   ]
  },
  {
   "cell_type": "markdown",
   "metadata": {},
   "source": [
    "#### Output Predictions"
   ]
  },
  {
   "cell_type": "code",
   "execution_count": null,
   "metadata": {},
   "outputs": [],
   "source": [
    "predictions = best_model.predict(test)\n",
    "\n",
    "output_df = pd.DataFrame({'Id': test['Id'], 'SalePrice': predictions})"
   ]
  }
 ],
 "metadata": {
  "kernelspec": {
   "display_name": "Python 3",
   "language": "python",
   "name": "python3"
  },
  "language_info": {
   "codemirror_mode": {
    "name": "ipython",
    "version": 3
   },
   "file_extension": ".py",
   "mimetype": "text/x-python",
   "name": "python",
   "nbconvert_exporter": "python",
   "pygments_lexer": "ipython3",
   "version": "3.12.4"
  }
 },
 "nbformat": 4,
 "nbformat_minor": 2
}
